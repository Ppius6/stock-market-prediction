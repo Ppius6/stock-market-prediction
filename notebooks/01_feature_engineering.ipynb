{
 "cells": [
  {
   "cell_type": "markdown",
   "id": "9e5b751e",
   "metadata": {},
   "source": [
    "# Stock Market Prediction - Feature Engineering\n",
    "\n",
    "This notebook explores and creates technical indicators and features for ML models. \n",
    "\n",
    "Dataset: 15 stocks, 11,500+ records (Sep 1 - Oct 15, 2025)\n",
    "\n",
    "Goals:\n",
    "1. Load and explore the data\n",
    "2. Create technical indicators (MA, RSI, MACD, Bollinger Bands)\n",
    "3. Engineer time-based features\n",
    "4. Analyze feature correlations\n",
    "5. Prepare final feature set for modeling"
   ]
  },
  {
   "cell_type": "code",
   "execution_count": null,
   "id": "ace5d016",
   "metadata": {},
   "outputs": [
    {
     "name": "stdout",
     "output_type": "stream",
     "text": [
      "Imports complete\n",
      "Config loaded: LOCAL mode\n",
      "Historical days: 365\n"
     ]
    },
    {
     "ename": "",
     "evalue": "",
     "output_type": "error",
     "traceback": [
      "\u001b[1;31mThe Kernel crashed while executing code in the current cell or a previous cell. \n",
      "\u001b[1;31mPlease review the code in the cell(s) to identify a possible cause of the failure. \n",
      "\u001b[1;31mClick <a href='https://aka.ms/vscodeJupyterKernelCrash'>here</a> for more info. \n",
      "\u001b[1;31mView Jupyter <a href='command:jupyter.viewOutput'>log</a> for further details."
     ]
    }
   ],
   "source": [
    "import sys\n",
    "from pathlib import Path\n",
    "\n",
    "# Add project root to path\n",
    "sys.path.append(str(Path.cwd().parent))\n",
    "\n",
    "import pandas as pd\n",
    "import numpy as np\n",
    "import matplotlib.pyplot as plt\n",
    "import seaborn as sns\n",
    "from datetime import datetime, timedelta\n",
    "\n",
    "# Import project modules\n",
    "from src.data_loader import DataLoader\n",
    "from src.config import config\n",
    "\n",
    "# Set plotting style\n",
    "plt.style.use(\"seaborn-v0_8-darkgrid\")\n",
    "sns.set_palette(\"husl\")\n",
    "\n",
    "# Display settings\n",
    "pd.set_option(\"display.max_columns\", None)\n",
    "pd.set_option(\"display.max_rows\", 100)\n",
    "\n",
    "print(\"Imports complete\")\n",
    "print(f\"Config loaded: {config.data_mode} mode\")\n",
    "print(f\"Historical days: {config.HISTORICAL_DAYS}\")"
   ]
  },
  {
   "cell_type": "markdown",
   "id": "a8d3f477",
   "metadata": {},
   "source": [
    "## Load Data"
   ]
  },
  {
   "cell_type": "code",
   "execution_count": null,
   "id": "f41e4e00",
   "metadata": {},
   "outputs": [
    {
     "name": "stdout",
     "output_type": "stream",
     "text": [
      "DataLoader initialized in LOCAL mode.\n",
      "\n",
      "================================================================================\n",
      "Loading all available stock data...\n",
      "================================================================================\n",
      "\n",
      "No local data file found at data/raw/all_stocks_historical.parquet.\n",
      "Local data not found. Fetching from database...\n",
      "\n",
      "================================================================================\n",
      "Connecting to database: {config.database_url}\n",
      "================================================================================\n",
      "\n"
     ]
    }
   ],
   "source": [
    "loader = DataLoader(use_local=True)\n",
    "df = loader.load_all_data()\n",
    "\n",
    "print(\"\\n Data loaded:\")\n",
    "print(f\"Shape: {df.shape}\")\n",
    "print(f\"Columns: {df.columns.tolist()}\")\n",
    "print(f\"Date range: {df['date'].min()} to {df['date'].max()}\")\n",
    "print(f\"Memory usage: {df.memory_usage(deep=True).sum() / (1024 ** 2):.2f} MB\")"
   ]
  }
 ],
 "metadata": {
  "kernelspec": {
   "display_name": "env",
   "language": "python",
   "name": "python3"
  },
  "language_info": {
   "codemirror_mode": {
    "name": "ipython",
    "version": 3
   },
   "file_extension": ".py",
   "mimetype": "text/x-python",
   "name": "python",
   "nbconvert_exporter": "python",
   "pygments_lexer": "ipython3",
   "version": "3.11.8"
  }
 },
 "nbformat": 4,
 "nbformat_minor": 5
}
